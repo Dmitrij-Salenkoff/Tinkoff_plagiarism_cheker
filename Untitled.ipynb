{
 "cells": [
  {
   "cell_type": "code",
   "execution_count": 4,
   "id": "53cece36-5b36-4804-89b2-170526b66a05",
   "metadata": {},
   "outputs": [],
   "source": [
    "import ast\n",
    "import os\n",
    "from Levenshtein import distance\n",
    "import pandas as pd\n",
    "import glob\n",
    "from itertools import product, combinations, combinations_with_replacement\n",
    "import matplotlib.pyplot as plt\n",
    "import seaborn as sns\n",
    "import re\n",
    "from catboost import CatBoostClassifier, Pool\n",
    "from catboost.utils import eval_metric, get_roc_curve, get_fnr_curve, get_fpr_curve\n",
    "from sklearn.model_selection import  train_test_split\n",
    "import sklearn\n",
    "from sklearn.metrics import auc, precision_recall_curve, average_precision_score\n",
    "import pylint"
   ]
  },
  {
   "cell_type": "code",
   "execution_count": 67,
   "id": "8ad16cb4-23ce-4693-b5d9-d562b5a27e28",
   "metadata": {},
   "outputs": [],
   "source": [
    "def get_gen_class(f1_path: str, f2_path: str) -> int:\n",
    "    dir1, file_name1 = os.path.split(f1_path)\n",
    "    dir2, file_name2 = os.path.split(f2_path)\n",
    "    return 1 if file_name1 == file_name2 else 0\n",
    "\n",
    "\n",
    "def get_direct_class(f1_path: str, f2_path: str) -> int:\n",
    "    dir1, file_name1 = os.path.split(f1_path)\n",
    "    dir2, file_name2 = os.path.split(f2_path)\n",
    "    if get_gen_class(f1_path, f2_path):\n",
    "        return 1 if (dir1 == 'files') is not (dir2 == 'files') else 0\n",
    "    else:\n",
    "        return 0\n",
    "\n",
    "\n",
    "def is_plagiat(path):\n",
    "    return ('plagiat' in path)\n",
    "\n",
    "\n",
    "def get_indirect_class(f1_path: str, f2_path: str) -> int:\n",
    "    dir1, file_name1 = os.path.split(f1_path)\n",
    "    dir2, file_name2 = os.path.split(f2_path)\n",
    "    if get_gen_class(f1_path, f2_path) and f1_path != f2_path:\n",
    "        return 1 if is_plagiat(f1_path) and is_plagiat(f2_path) else 0\n",
    "    else:\n",
    "        return 0\n",
    "\n",
    "\n",
    "def get_features(f1_path: str, f2_path: str):\n",
    "    pass\n",
    "\n",
    "\n",
    "def get_classes(f1_path: str, f2_path: str) -> pd.DataFrame:\n",
    "    data = {\n",
    "        'f1_path': [f1_path],\n",
    "        'f2_path': [f2_path],\n",
    "        'gen': [get_gen_class(f1_path, f2_path)],\n",
    "        # 'direct': [get_direct_class(f1_path, f2_path)],\n",
    "        # 'indirect': [get_indirect_class(f1_path, f2_path)]\n",
    "    }\n",
    "    return pd.DataFrame(data)\n",
    "\n",
    "\n",
    "def to_df_classes():\n",
    "    file_names = [os.path.split(i)[1] for i in glob.glob(\"files/*.py\")][:30]\n",
    "    lst = ['files', 'plagiat1', 'plagiat2']\n",
    "    df_1 = pd.DataFrame()\n",
    "    for i, j in combinations_with_replacement(lst, 2):\n",
    "        for n, m in combinations_with_replacement(file_names, 2):\n",
    "            f1_path = os.path.join(i, n)\n",
    "            f2_path = os.path.join(j, m)\n",
    "            df_1 = pd.concat([df_1, get_classes(f1_path, f2_path)], axis=0)\n",
    "    df_1.to_csv('test_dataset.csv', index=False)\n",
    "    return df_1"
   ]
  },
  {
   "cell_type": "code",
   "execution_count": 168,
   "id": "32131e89-fcf5-4fcd-acf2-864a72c79af2",
   "metadata": {},
   "outputs": [],
   "source": [
    "from tqdm.notebook import tqdm\n",
    "\n",
    "def script_len(f_path: str):\n",
    "    with open(f_path, 'r', encoding=\"UTF-8\") as f:\n",
    "        return len(f.read())\n",
    "\n",
    "def lev_dist(f1_path: str, f2_path: str):\n",
    "    with open(f1_path, 'r', encoding=\"UTF-8\") as f1, open(f2_path, 'r', encoding=\"UTF-8\") as f2:\n",
    "        return distance(f1.read(), f2.read())\n",
    "    \n",
    "def clean_from_doc(st: str):\n",
    "    return re.sub(r'\"\"\".*\"\"\"', '', st)\n",
    "    \n",
    "def lev_dist_norm(f1_path: str, f2_path: str):\n",
    "    with open(f1_path, 'r', encoding=\"UTF-8\") as f1, open(f2_path, 'r', encoding=\"UTF-8\") as f2:\n",
    "        str_1 = f1.read()\n",
    "        str_2 = f2.read()\n",
    "        return (distance(str_1, str_2) / (len(str_1) + len(str_2) + 1), len(str_1), len(str_2) + 1)\n",
    "    \n",
    "def lev_dist_norm_clear(f1_path: str, f2_path: str):\n",
    "    with open(f1_path, 'r', encoding=\"UTF-8\") as f1, open(f2_path, 'r', encoding=\"UTF-8\") as f2:\n",
    "        str_1 = clean_from_doc(f1.read())\n",
    "        str_2 = clean_from_doc(f2.read())\n",
    "        return distance(str_1, str_2) / (len(str_1) + len(str_2) + 1)\n",
    "    \n",
    "def not_unicode(f1_path):\n",
    "    with open(f1_path, 'r', encoding=\"UTF-8\") as f:\n",
    "        return len(re.sub('[\\w\\s.():\",:;\\[\\]=+\\-*`<>^/#{}\\'\\\\\\@!?%—~–&|$]', '', f.read()))\n",
    "    \n",
    "def get_files_len(df):\n",
    "    df_buff = pd.DataFrame()\n",
    "    file_names = list(df['f1_path'].unique())\n",
    "    for file in file_names:\n",
    "        with open(file, 'r', encoding=\"UTF-8\") as f:\n",
    "            df_sec = pd.DataFrame.from_dict({'f_path': [file], 'script_len': [len(str(f.read()))]})\n",
    "            df_buff = pd.concat([df_buff, df_sec])\n",
    "    return df_buff\n",
    "\n",
    "\n",
    "def get_script_len(column_name, df):\n",
    "    return df.merge(get_files_len(df), left_on=column_name, right_on='f_path')['script_len']\n",
    "\n",
    "# df.merge(get_files_len(df), left_on='f1_path', right_on='f_path').merge(get_files_len(df), left_on='f2_path', right_on='f_path')\n",
    "\n",
    "df['f1_len'] = get_script_len('f1_path', df)\n",
    "df['f2_len'] = get_script_len('f2_path', df)"
   ]
  },
  {
   "cell_type": "code",
   "execution_count": 186,
   "id": "0f0cadda-4f32-4e90-b593-db27b0160e60",
   "metadata": {},
   "outputs": [
    {
     "data": {
      "text/html": [
       "<div>\n",
       "<style scoped>\n",
       "    .dataframe tbody tr th:only-of-type {\n",
       "        vertical-align: middle;\n",
       "    }\n",
       "\n",
       "    .dataframe tbody tr th {\n",
       "        vertical-align: top;\n",
       "    }\n",
       "\n",
       "    .dataframe thead th {\n",
       "        text-align: right;\n",
       "    }\n",
       "</style>\n",
       "<table border=\"1\" class=\"dataframe\">\n",
       "  <thead>\n",
       "    <tr style=\"text-align: right;\">\n",
       "      <th></th>\n",
       "      <th>f1_path</th>\n",
       "      <th>f2_path</th>\n",
       "      <th>gen</th>\n",
       "      <th>f1_len</th>\n",
       "      <th>f2_len</th>\n",
       "      <th>lev_norm_2</th>\n",
       "      <th>f_path</th>\n",
       "      <th>script_len</th>\n",
       "    </tr>\n",
       "  </thead>\n",
       "  <tbody>\n",
       "    <tr>\n",
       "      <th>0</th>\n",
       "      <td>files\\add_constant.py</td>\n",
       "      <td>files\\add_constant.py</td>\n",
       "      <td>1</td>\n",
       "      <td>4089</td>\n",
       "      <td>4089</td>\n",
       "      <td>(0.0, 4089, 4090)</td>\n",
       "      <td>files\\add_constant.py</td>\n",
       "      <td>4089</td>\n",
       "    </tr>\n",
       "    <tr>\n",
       "      <th>1</th>\n",
       "      <td>files\\add_constant.py</td>\n",
       "      <td>files\\any_percent_bc.py</td>\n",
       "      <td>0</td>\n",
       "      <td>4089</td>\n",
       "      <td>13244</td>\n",
       "      <td>(0.6096688588900427, 4089, 13245)</td>\n",
       "      <td>files\\any_percent_bc.py</td>\n",
       "      <td>13244</td>\n",
       "    </tr>\n",
       "    <tr>\n",
       "      <th>2</th>\n",
       "      <td>files\\any_percent_bc.py</td>\n",
       "      <td>files\\any_percent_bc.py</td>\n",
       "      <td>1</td>\n",
       "      <td>4089</td>\n",
       "      <td>6370</td>\n",
       "      <td>(0.0, 13244, 13245)</td>\n",
       "      <td>files\\any_percent_bc.py</td>\n",
       "      <td>13244</td>\n",
       "    </tr>\n",
       "    <tr>\n",
       "      <th>3</th>\n",
       "      <td>files\\add_constant.py</td>\n",
       "      <td>files\\apply_lambda.py</td>\n",
       "      <td>0</td>\n",
       "      <td>4089</td>\n",
       "      <td>13244</td>\n",
       "      <td>(0.1682761682761683, 4089, 4920)</td>\n",
       "      <td>files\\apply_lambda.py</td>\n",
       "      <td>4919</td>\n",
       "    </tr>\n",
       "    <tr>\n",
       "      <th>4</th>\n",
       "      <td>files\\any_percent_bc.py</td>\n",
       "      <td>files\\apply_lambda.py</td>\n",
       "      <td>0</td>\n",
       "      <td>4089</td>\n",
       "      <td>6370</td>\n",
       "      <td>(0.5679365778462894, 13244, 4920)</td>\n",
       "      <td>files\\apply_lambda.py</td>\n",
       "      <td>4919</td>\n",
       "    </tr>\n",
       "    <tr>\n",
       "      <th>...</th>\n",
       "      <td>...</td>\n",
       "      <td>...</td>\n",
       "      <td>...</td>\n",
       "      <td>...</td>\n",
       "      <td>...</td>\n",
       "      <td>...</td>\n",
       "      <td>...</td>\n",
       "      <td>...</td>\n",
       "    </tr>\n",
       "    <tr>\n",
       "      <th>2785</th>\n",
       "      <td>plagiat2\\classifier.py</td>\n",
       "      <td>plagiat2\\conf.py</td>\n",
       "      <td>0</td>\n",
       "      <td>31751</td>\n",
       "      <td>3907</td>\n",
       "      <td>(0.8133710984604168, 31751, 3908)</td>\n",
       "      <td>plagiat2\\conf.py</td>\n",
       "      <td>3907</td>\n",
       "    </tr>\n",
       "    <tr>\n",
       "      <th>2786</th>\n",
       "      <td>plagiat2\\cnn.py</td>\n",
       "      <td>plagiat2\\conf.py</td>\n",
       "      <td>0</td>\n",
       "      <td>8601</td>\n",
       "      <td>3907</td>\n",
       "      <td>(0.5523223279238948, 8601, 3908)</td>\n",
       "      <td>plagiat2\\conf.py</td>\n",
       "      <td>3907</td>\n",
       "    </tr>\n",
       "    <tr>\n",
       "      <th>2787</th>\n",
       "      <td>plagiat2\\collection.py</td>\n",
       "      <td>plagiat2\\conf.py</td>\n",
       "      <td>0</td>\n",
       "      <td>18030</td>\n",
       "      <td>3907</td>\n",
       "      <td>(0.7177500227915034, 18030, 3908)</td>\n",
       "      <td>plagiat2\\conf.py</td>\n",
       "      <td>3907</td>\n",
       "    </tr>\n",
       "    <tr>\n",
       "      <th>2788</th>\n",
       "      <td>plagiat2\\common.py</td>\n",
       "      <td>plagiat2\\conf.py</td>\n",
       "      <td>0</td>\n",
       "      <td>1931</td>\n",
       "      <td>3907</td>\n",
       "      <td>(0.5362219558143517, 1931, 3908)</td>\n",
       "      <td>plagiat2\\conf.py</td>\n",
       "      <td>3907</td>\n",
       "    </tr>\n",
       "    <tr>\n",
       "      <th>2789</th>\n",
       "      <td>plagiat2\\conf.py</td>\n",
       "      <td>plagiat2\\conf.py</td>\n",
       "      <td>1</td>\n",
       "      <td>3907</td>\n",
       "      <td>3907</td>\n",
       "      <td>(0.0, 3907, 3908)</td>\n",
       "      <td>plagiat2\\conf.py</td>\n",
       "      <td>3907</td>\n",
       "    </tr>\n",
       "  </tbody>\n",
       "</table>\n",
       "<p>2790 rows × 8 columns</p>\n",
       "</div>"
      ],
      "text/plain": [
       "                      f1_path                  f2_path  gen  f1_len  f2_len  \\\n",
       "0       files\\add_constant.py    files\\add_constant.py    1    4089    4089   \n",
       "1       files\\add_constant.py  files\\any_percent_bc.py    0    4089   13244   \n",
       "2     files\\any_percent_bc.py  files\\any_percent_bc.py    1    4089    6370   \n",
       "3       files\\add_constant.py    files\\apply_lambda.py    0    4089   13244   \n",
       "4     files\\any_percent_bc.py    files\\apply_lambda.py    0    4089    6370   \n",
       "...                       ...                      ...  ...     ...     ...   \n",
       "2785   plagiat2\\classifier.py         plagiat2\\conf.py    0   31751    3907   \n",
       "2786          plagiat2\\cnn.py         plagiat2\\conf.py    0    8601    3907   \n",
       "2787   plagiat2\\collection.py         plagiat2\\conf.py    0   18030    3907   \n",
       "2788       plagiat2\\common.py         plagiat2\\conf.py    0    1931    3907   \n",
       "2789         plagiat2\\conf.py         plagiat2\\conf.py    1    3907    3907   \n",
       "\n",
       "                             lev_norm_2                   f_path  script_len  \n",
       "0                     (0.0, 4089, 4090)    files\\add_constant.py        4089  \n",
       "1     (0.6096688588900427, 4089, 13245)  files\\any_percent_bc.py       13244  \n",
       "2                   (0.0, 13244, 13245)  files\\any_percent_bc.py       13244  \n",
       "3      (0.1682761682761683, 4089, 4920)    files\\apply_lambda.py        4919  \n",
       "4     (0.5679365778462894, 13244, 4920)    files\\apply_lambda.py        4919  \n",
       "...                                 ...                      ...         ...  \n",
       "2785  (0.8133710984604168, 31751, 3908)         plagiat2\\conf.py        3907  \n",
       "2786   (0.5523223279238948, 8601, 3908)         plagiat2\\conf.py        3907  \n",
       "2787  (0.7177500227915034, 18030, 3908)         plagiat2\\conf.py        3907  \n",
       "2788   (0.5362219558143517, 1931, 3908)         plagiat2\\conf.py        3907  \n",
       "2789                  (0.0, 3907, 3908)         plagiat2\\conf.py        3907  \n",
       "\n",
       "[2790 rows x 8 columns]"
      ]
     },
     "execution_count": 186,
     "metadata": {},
     "output_type": "execute_result"
    }
   ],
   "source": [
    "# files\\apply_lambda.py\n",
    "# files\\any_percent_bc.py\n",
    "df_len = get_files_len(df)\n",
    "df.merge(df_len, left_on='f2_path', right_on='f_path', sort=False)"
   ]
  },
  {
   "cell_type": "code",
   "execution_count": 171,
   "id": "c04ca884-ce34-499f-b2ce-59fb3c54a1ae",
   "metadata": {},
   "outputs": [],
   "source": [
    "df = pd.read_csv('test_dataset.csv')\n",
    "# df['lev'] = df.apply(lambda x: lev_dist(x['f1_path'], x['f2_path']), axis=1)\n",
    "df['f1_len'] = get_script_len('f1_path', df)\n",
    "df['f2_len'] = get_script_len('f2_path', df)\n",
    "# df['lev_norm'] = df['lev'] / (df['f1_len'] + df['f2_len'] + 1)\n",
    "df['lev_norm_2'] = df.apply(lambda x: lev_dist_norm(x['f1_path'], x['f2_path']), axis=1)\n",
    "# df['not_unicode_1'] = df['f1_path'].apply(not_unicode)\n",
    "# df['not_unicode_2'] = df['f2_path'].apply(not_unicode)"
   ]
  },
  {
   "cell_type": "code",
   "execution_count": 172,
   "id": "1972a3f3-4a16-41f0-9998-947dbac84e40",
   "metadata": {},
   "outputs": [
    {
     "data": {
      "text/html": [
       "<div>\n",
       "<style scoped>\n",
       "    .dataframe tbody tr th:only-of-type {\n",
       "        vertical-align: middle;\n",
       "    }\n",
       "\n",
       "    .dataframe tbody tr th {\n",
       "        vertical-align: top;\n",
       "    }\n",
       "\n",
       "    .dataframe thead th {\n",
       "        text-align: right;\n",
       "    }\n",
       "</style>\n",
       "<table border=\"1\" class=\"dataframe\">\n",
       "  <thead>\n",
       "    <tr style=\"text-align: right;\">\n",
       "      <th></th>\n",
       "      <th>f1_path</th>\n",
       "      <th>f2_path</th>\n",
       "      <th>gen</th>\n",
       "      <th>f1_len</th>\n",
       "      <th>f2_len</th>\n",
       "      <th>lev_norm_2</th>\n",
       "    </tr>\n",
       "  </thead>\n",
       "  <tbody>\n",
       "    <tr>\n",
       "      <th>0</th>\n",
       "      <td>files\\add_constant.py</td>\n",
       "      <td>files\\add_constant.py</td>\n",
       "      <td>1</td>\n",
       "      <td>4089</td>\n",
       "      <td>4089</td>\n",
       "      <td>(0.0, 4089, 4090)</td>\n",
       "    </tr>\n",
       "    <tr>\n",
       "      <th>1</th>\n",
       "      <td>files\\add_constant.py</td>\n",
       "      <td>files\\any_percent_bc.py</td>\n",
       "      <td>0</td>\n",
       "      <td>4089</td>\n",
       "      <td>13244</td>\n",
       "      <td>(0.6096688588900427, 4089, 13245)</td>\n",
       "    </tr>\n",
       "    <tr>\n",
       "      <th>2</th>\n",
       "      <td>files\\add_constant.py</td>\n",
       "      <td>files\\apply_lambda.py</td>\n",
       "      <td>0</td>\n",
       "      <td>4089</td>\n",
       "      <td>13244</td>\n",
       "      <td>(0.1682761682761683, 4089, 4920)</td>\n",
       "    </tr>\n",
       "    <tr>\n",
       "      <th>3</th>\n",
       "      <td>files\\add_constant.py</td>\n",
       "      <td>files\\arima.py</td>\n",
       "      <td>0</td>\n",
       "      <td>4089</td>\n",
       "      <td>4919</td>\n",
       "      <td>(0.4880900822867042, 4089, 7456)</td>\n",
       "    </tr>\n",
       "    <tr>\n",
       "      <th>4</th>\n",
       "      <td>files\\add_constant.py</td>\n",
       "      <td>files\\assembling_pipelines.py</td>\n",
       "      <td>0</td>\n",
       "      <td>4089</td>\n",
       "      <td>4919</td>\n",
       "      <td>(0.4122779019044579, 4089, 5310)</td>\n",
       "    </tr>\n",
       "    <tr>\n",
       "      <th>...</th>\n",
       "      <td>...</td>\n",
       "      <td>...</td>\n",
       "      <td>...</td>\n",
       "      <td>...</td>\n",
       "      <td>...</td>\n",
       "      <td>...</td>\n",
       "    </tr>\n",
       "    <tr>\n",
       "      <th>2785</th>\n",
       "      <td>plagiat2\\collection.py</td>\n",
       "      <td>plagiat2\\common.py</td>\n",
       "      <td>0</td>\n",
       "      <td>18030</td>\n",
       "      <td>3907</td>\n",
       "      <td>(0.828323815248973, 18030, 1932)</td>\n",
       "    </tr>\n",
       "    <tr>\n",
       "      <th>2786</th>\n",
       "      <td>plagiat2\\collection.py</td>\n",
       "      <td>plagiat2\\conf.py</td>\n",
       "      <td>0</td>\n",
       "      <td>18030</td>\n",
       "      <td>3907</td>\n",
       "      <td>(0.7177500227915034, 18030, 3908)</td>\n",
       "    </tr>\n",
       "    <tr>\n",
       "      <th>2787</th>\n",
       "      <td>plagiat2\\common.py</td>\n",
       "      <td>plagiat2\\common.py</td>\n",
       "      <td>1</td>\n",
       "      <td>1931</td>\n",
       "      <td>3907</td>\n",
       "      <td>(0.0, 1931, 1932)</td>\n",
       "    </tr>\n",
       "    <tr>\n",
       "      <th>2788</th>\n",
       "      <td>plagiat2\\common.py</td>\n",
       "      <td>plagiat2\\conf.py</td>\n",
       "      <td>0</td>\n",
       "      <td>1931</td>\n",
       "      <td>3907</td>\n",
       "      <td>(0.5362219558143517, 1931, 3908)</td>\n",
       "    </tr>\n",
       "    <tr>\n",
       "      <th>2789</th>\n",
       "      <td>plagiat2\\conf.py</td>\n",
       "      <td>plagiat2\\conf.py</td>\n",
       "      <td>1</td>\n",
       "      <td>3907</td>\n",
       "      <td>3907</td>\n",
       "      <td>(0.0, 3907, 3908)</td>\n",
       "    </tr>\n",
       "  </tbody>\n",
       "</table>\n",
       "<p>2790 rows × 6 columns</p>\n",
       "</div>"
      ],
      "text/plain": [
       "                     f1_path                        f2_path  gen  f1_len  \\\n",
       "0      files\\add_constant.py          files\\add_constant.py    1    4089   \n",
       "1      files\\add_constant.py        files\\any_percent_bc.py    0    4089   \n",
       "2      files\\add_constant.py          files\\apply_lambda.py    0    4089   \n",
       "3      files\\add_constant.py                 files\\arima.py    0    4089   \n",
       "4      files\\add_constant.py  files\\assembling_pipelines.py    0    4089   \n",
       "...                      ...                            ...  ...     ...   \n",
       "2785  plagiat2\\collection.py             plagiat2\\common.py    0   18030   \n",
       "2786  plagiat2\\collection.py               plagiat2\\conf.py    0   18030   \n",
       "2787      plagiat2\\common.py             plagiat2\\common.py    1    1931   \n",
       "2788      plagiat2\\common.py               plagiat2\\conf.py    0    1931   \n",
       "2789        plagiat2\\conf.py               plagiat2\\conf.py    1    3907   \n",
       "\n",
       "      f2_len                         lev_norm_2  \n",
       "0       4089                  (0.0, 4089, 4090)  \n",
       "1      13244  (0.6096688588900427, 4089, 13245)  \n",
       "2      13244   (0.1682761682761683, 4089, 4920)  \n",
       "3       4919   (0.4880900822867042, 4089, 7456)  \n",
       "4       4919   (0.4122779019044579, 4089, 5310)  \n",
       "...      ...                                ...  \n",
       "2785    3907   (0.828323815248973, 18030, 1932)  \n",
       "2786    3907  (0.7177500227915034, 18030, 3908)  \n",
       "2787    3907                  (0.0, 1931, 1932)  \n",
       "2788    3907   (0.5362219558143517, 1931, 3908)  \n",
       "2789    3907                  (0.0, 3907, 3908)  \n",
       "\n",
       "[2790 rows x 6 columns]"
      ]
     },
     "execution_count": 172,
     "metadata": {},
     "output_type": "execute_result"
    }
   ],
   "source": [
    "df\n",
    "#df[df['lev_norm']!=df['lev_norm_2']]"
   ]
  },
  {
   "cell_type": "code",
   "execution_count": 89,
   "id": "dfcbabe7-ea24-444c-929e-666fe247f799",
   "metadata": {},
   "outputs": [
    {
     "data": {
      "text/plain": [
       "<AxesSubplot: xlabel='lev_norm_2', ylabel='lev_norm'>"
      ]
     },
     "execution_count": 89,
     "metadata": {},
     "output_type": "execute_result"
    },
    {
     "data": {
      "image/png": "[encoded data removed]",
      "text/plain": [
       "<Figure size 640x480 with 1 Axes>"
      ]
     },
     "metadata": {},
     "output_type": "display_data"
    }
   ],
   "source": [
    "sns.histplot(data=df, x='lev_norm_2', y='lev_norm', hue='gen')"
   ]
  },
  {
   "cell_type": "code",
   "execution_count": null,
   "id": "3efdd2a9-bc52-4c3d-a1aa-258ad723be31",
   "metadata": {},
   "outputs": [],
   "source": []
  },
  {
   "cell_type": "code",
   "execution_count": 79,
   "id": "a4d356b6-d410-4bd9-a154-3f1b5da83639",
   "metadata": {},
   "outputs": [
    {
     "name": "stdout",
     "output_type": "stream",
     "text": [
      "0:\tlearn: 0.3791566\ttest: 0.3856759\tbest: 0.3856759 (0)\ttotal: 206ms\tremaining: 20.4s\n",
      "1:\tlearn: 0.2500563\ttest: 0.2576448\tbest: 0.2576448 (1)\ttotal: 211ms\tremaining: 10.4s\n",
      "2:\tlearn: 0.1864808\ttest: 0.1950872\tbest: 0.1950872 (2)\ttotal: 215ms\tremaining: 6.96s\n",
      "3:\tlearn: 0.1548112\ttest: 0.1648743\tbest: 0.1648743 (3)\ttotal: 218ms\tremaining: 5.22s\n",
      "4:\tlearn: 0.1372853\ttest: 0.1487466\tbest: 0.1487466 (4)\ttotal: 220ms\tremaining: 4.17s\n",
      "5:\tlearn: 0.1274179\ttest: 0.1396883\tbest: 0.1396883 (5)\ttotal: 222ms\tremaining: 3.47s\n",
      "6:\tlearn: 0.1232728\ttest: 0.1367891\tbest: 0.1367891 (6)\ttotal: 224ms\tremaining: 2.97s\n",
      "7:\tlearn: 0.1202536\ttest: 0.1343685\tbest: 0.1343685 (7)\ttotal: 226ms\tremaining: 2.59s\n",
      "8:\tlearn: 0.1172772\ttest: 0.1339939\tbest: 0.1339939 (8)\ttotal: 228ms\tremaining: 2.3s\n",
      "9:\tlearn: 0.1162492\ttest: 0.1347590\tbest: 0.1339939 (8)\ttotal: 230ms\tremaining: 2.06s\n",
      "10:\tlearn: 0.1151143\ttest: 0.1357984\tbest: 0.1339939 (8)\ttotal: 232ms\tremaining: 1.87s\n",
      "11:\tlearn: 0.1139731\ttest: 0.1354259\tbest: 0.1339939 (8)\ttotal: 233ms\tremaining: 1.71s\n",
      "12:\tlearn: 0.1134003\ttest: 0.1359039\tbest: 0.1339939 (8)\ttotal: 237ms\tremaining: 1.58s\n",
      "13:\tlearn: 0.1127456\ttest: 0.1355273\tbest: 0.1339939 (8)\ttotal: 239ms\tremaining: 1.47s\n",
      "14:\tlearn: 0.1120582\ttest: 0.1357571\tbest: 0.1339939 (8)\ttotal: 241ms\tremaining: 1.37s\n",
      "15:\tlearn: 0.1108321\ttest: 0.1357644\tbest: 0.1339939 (8)\ttotal: 243ms\tremaining: 1.28s\n",
      "16:\tlearn: 0.1100272\ttest: 0.1357372\tbest: 0.1339939 (8)\ttotal: 245ms\tremaining: 1.2s\n",
      "17:\tlearn: 0.1094474\ttest: 0.1362135\tbest: 0.1339939 (8)\ttotal: 247ms\tremaining: 1.13s\n",
      "18:\tlearn: 0.1087794\ttest: 0.1362678\tbest: 0.1339939 (8)\ttotal: 250ms\tremaining: 1.06s\n",
      "19:\tlearn: 0.1082304\ttest: 0.1361430\tbest: 0.1339939 (8)\ttotal: 252ms\tremaining: 1.01s\n",
      "20:\tlearn: 0.1077432\ttest: 0.1364444\tbest: 0.1339939 (8)\ttotal: 254ms\tremaining: 955ms\n",
      "21:\tlearn: 0.1070667\ttest: 0.1364664\tbest: 0.1339939 (8)\ttotal: 256ms\tremaining: 908ms\n",
      "22:\tlearn: 0.1065250\ttest: 0.1366506\tbest: 0.1339939 (8)\ttotal: 258ms\tremaining: 864ms\n",
      "23:\tlearn: 0.1061643\ttest: 0.1365813\tbest: 0.1339939 (8)\ttotal: 260ms\tremaining: 825ms\n",
      "24:\tlearn: 0.1056868\ttest: 0.1362771\tbest: 0.1339939 (8)\ttotal: 262ms\tremaining: 787ms\n",
      "25:\tlearn: 0.1054366\ttest: 0.1362671\tbest: 0.1339939 (8)\ttotal: 265ms\tremaining: 755ms\n",
      "26:\tlearn: 0.1052291\ttest: 0.1362747\tbest: 0.1339939 (8)\ttotal: 268ms\tremaining: 725ms\n",
      "27:\tlearn: 0.1043976\ttest: 0.1364247\tbest: 0.1339939 (8)\ttotal: 271ms\tremaining: 696ms\n",
      "28:\tlearn: 0.1038933\ttest: 0.1362202\tbest: 0.1339939 (8)\ttotal: 273ms\tremaining: 667ms\n",
      "29:\tlearn: 0.1032990\ttest: 0.1361411\tbest: 0.1339939 (8)\ttotal: 275ms\tremaining: 641ms\n",
      "30:\tlearn: 0.1027803\ttest: 0.1360905\tbest: 0.1339939 (8)\ttotal: 277ms\tremaining: 616ms\n",
      "31:\tlearn: 0.1022543\ttest: 0.1364300\tbest: 0.1339939 (8)\ttotal: 279ms\tremaining: 592ms\n",
      "32:\tlearn: 0.1014260\ttest: 0.1373950\tbest: 0.1339939 (8)\ttotal: 281ms\tremaining: 570ms\n",
      "33:\tlearn: 0.1010789\ttest: 0.1372725\tbest: 0.1339939 (8)\ttotal: 283ms\tremaining: 549ms\n",
      "34:\tlearn: 0.1008881\ttest: 0.1372369\tbest: 0.1339939 (8)\ttotal: 285ms\tremaining: 529ms\n",
      "35:\tlearn: 0.1005752\ttest: 0.1372002\tbest: 0.1339939 (8)\ttotal: 287ms\tremaining: 510ms\n",
      "36:\tlearn: 0.1003228\ttest: 0.1372528\tbest: 0.1339939 (8)\ttotal: 289ms\tremaining: 492ms\n",
      "37:\tlearn: 0.0997906\ttest: 0.1382199\tbest: 0.1339939 (8)\ttotal: 291ms\tremaining: 475ms\n",
      "38:\tlearn: 0.0996107\ttest: 0.1383449\tbest: 0.1339939 (8)\ttotal: 293ms\tremaining: 458ms\n",
      "39:\tlearn: 0.0989685\ttest: 0.1384639\tbest: 0.1339939 (8)\ttotal: 295ms\tremaining: 443ms\n",
      "40:\tlearn: 0.0985834\ttest: 0.1388533\tbest: 0.1339939 (8)\ttotal: 297ms\tremaining: 428ms\n",
      "41:\tlearn: 0.0983719\ttest: 0.1386693\tbest: 0.1339939 (8)\ttotal: 299ms\tremaining: 413ms\n",
      "42:\tlearn: 0.0982496\ttest: 0.1387759\tbest: 0.1339939 (8)\ttotal: 301ms\tremaining: 400ms\n",
      "43:\tlearn: 0.0977826\ttest: 0.1388589\tbest: 0.1339939 (8)\ttotal: 304ms\tremaining: 386ms\n",
      "44:\tlearn: 0.0976115\ttest: 0.1388701\tbest: 0.1339939 (8)\ttotal: 306ms\tremaining: 374ms\n",
      "45:\tlearn: 0.0971222\ttest: 0.1391699\tbest: 0.1339939 (8)\ttotal: 308ms\tremaining: 361ms\n",
      "46:\tlearn: 0.0959270\ttest: 0.1392748\tbest: 0.1339939 (8)\ttotal: 310ms\tremaining: 350ms\n",
      "47:\tlearn: 0.0957136\ttest: 0.1392342\tbest: 0.1339939 (8)\ttotal: 312ms\tremaining: 338ms\n",
      "48:\tlearn: 0.0954362\ttest: 0.1394491\tbest: 0.1339939 (8)\ttotal: 315ms\tremaining: 328ms\n",
      "49:\tlearn: 0.0952851\ttest: 0.1395521\tbest: 0.1339939 (8)\ttotal: 317ms\tremaining: 317ms\n",
      "50:\tlearn: 0.0949738\ttest: 0.1398746\tbest: 0.1339939 (8)\ttotal: 319ms\tremaining: 306ms\n",
      "51:\tlearn: 0.0937486\ttest: 0.1402271\tbest: 0.1339939 (8)\ttotal: 321ms\tremaining: 296ms\n",
      "52:\tlearn: 0.0935758\ttest: 0.1402035\tbest: 0.1339939 (8)\ttotal: 323ms\tremaining: 287ms\n",
      "53:\tlearn: 0.0934708\ttest: 0.1402599\tbest: 0.1339939 (8)\ttotal: 325ms\tremaining: 277ms\n",
      "54:\tlearn: 0.0933936\ttest: 0.1403658\tbest: 0.1339939 (8)\ttotal: 327ms\tremaining: 268ms\n",
      "55:\tlearn: 0.0923737\ttest: 0.1407798\tbest: 0.1339939 (8)\ttotal: 329ms\tremaining: 259ms\n",
      "56:\tlearn: 0.0919684\ttest: 0.1409022\tbest: 0.1339939 (8)\ttotal: 331ms\tremaining: 250ms\n",
      "57:\tlearn: 0.0915986\ttest: 0.1412376\tbest: 0.1339939 (8)\ttotal: 333ms\tremaining: 241ms\n",
      "58:\tlearn: 0.0914943\ttest: 0.1413497\tbest: 0.1339939 (8)\ttotal: 335ms\tremaining: 233ms\n",
      "59:\tlearn: 0.0909732\ttest: 0.1414123\tbest: 0.1339939 (8)\ttotal: 338ms\tremaining: 225ms\n",
      "60:\tlearn: 0.0909019\ttest: 0.1414818\tbest: 0.1339939 (8)\ttotal: 340ms\tremaining: 217ms\n",
      "61:\tlearn: 0.0907578\ttest: 0.1414928\tbest: 0.1339939 (8)\ttotal: 342ms\tremaining: 209ms\n",
      "62:\tlearn: 0.0903519\ttest: 0.1423386\tbest: 0.1339939 (8)\ttotal: 344ms\tremaining: 202ms\n",
      "63:\tlearn: 0.0893929\ttest: 0.1428750\tbest: 0.1339939 (8)\ttotal: 346ms\tremaining: 195ms\n",
      "64:\tlearn: 0.0891838\ttest: 0.1428623\tbest: 0.1339939 (8)\ttotal: 348ms\tremaining: 187ms\n",
      "65:\tlearn: 0.0890590\ttest: 0.1428631\tbest: 0.1339939 (8)\ttotal: 350ms\tremaining: 180ms\n",
      "66:\tlearn: 0.0888959\ttest: 0.1428485\tbest: 0.1339939 (8)\ttotal: 352ms\tremaining: 174ms\n",
      "67:\tlearn: 0.0881267\ttest: 0.1434630\tbest: 0.1339939 (8)\ttotal: 354ms\tremaining: 167ms\n",
      "68:\tlearn: 0.0879436\ttest: 0.1434707\tbest: 0.1339939 (8)\ttotal: 357ms\tremaining: 160ms\n",
      "69:\tlearn: 0.0877841\ttest: 0.1434882\tbest: 0.1339939 (8)\ttotal: 359ms\tremaining: 154ms\n",
      "70:\tlearn: 0.0876764\ttest: 0.1434974\tbest: 0.1339939 (8)\ttotal: 361ms\tremaining: 147ms\n",
      "71:\tlearn: 0.0872025\ttest: 0.1439524\tbest: 0.1339939 (8)\ttotal: 363ms\tremaining: 141ms\n",
      "72:\tlearn: 0.0866710\ttest: 0.1447288\tbest: 0.1339939 (8)\ttotal: 365ms\tremaining: 135ms\n",
      "73:\tlearn: 0.0865084\ttest: 0.1448438\tbest: 0.1339939 (8)\ttotal: 368ms\tremaining: 129ms\n",
      "74:\tlearn: 0.0861984\ttest: 0.1451775\tbest: 0.1339939 (8)\ttotal: 371ms\tremaining: 124ms\n",
      "75:\tlearn: 0.0860675\ttest: 0.1452137\tbest: 0.1339939 (8)\ttotal: 373ms\tremaining: 118ms\n",
      "76:\tlearn: 0.0859060\ttest: 0.1455602\tbest: 0.1339939 (8)\ttotal: 376ms\tremaining: 112ms\n",
      "77:\tlearn: 0.0858440\ttest: 0.1456301\tbest: 0.1339939 (8)\ttotal: 378ms\tremaining: 107ms\n",
      "78:\tlearn: 0.0854338\ttest: 0.1457557\tbest: 0.1339939 (8)\ttotal: 380ms\tremaining: 101ms\n",
      "79:\tlearn: 0.0853478\ttest: 0.1458337\tbest: 0.1339939 (8)\ttotal: 382ms\tremaining: 95.6ms\n",
      "80:\tlearn: 0.0852695\ttest: 0.1458543\tbest: 0.1339939 (8)\ttotal: 385ms\tremaining: 90.2ms\n",
      "81:\tlearn: 0.0852150\ttest: 0.1459311\tbest: 0.1339939 (8)\ttotal: 387ms\tremaining: 85.1ms\n",
      "82:\tlearn: 0.0851907\ttest: 0.1459729\tbest: 0.1339939 (8)\ttotal: 391ms\tremaining: 80ms\n",
      "83:\tlearn: 0.0848392\ttest: 0.1460787\tbest: 0.1339939 (8)\ttotal: 393ms\tremaining: 75ms\n",
      "84:\tlearn: 0.0848026\ttest: 0.1461763\tbest: 0.1339939 (8)\ttotal: 396ms\tremaining: 69.9ms\n",
      "85:\tlearn: 0.0845608\ttest: 0.1463970\tbest: 0.1339939 (8)\ttotal: 398ms\tremaining: 64.8ms\n",
      "86:\tlearn: 0.0844434\ttest: 0.1464456\tbest: 0.1339939 (8)\ttotal: 400ms\tremaining: 59.8ms\n",
      "87:\tlearn: 0.0840288\ttest: 0.1471306\tbest: 0.1339939 (8)\ttotal: 403ms\tremaining: 54.9ms\n",
      "88:\tlearn: 0.0839091\ttest: 0.1472548\tbest: 0.1339939 (8)\ttotal: 405ms\tremaining: 50ms\n",
      "89:\tlearn: 0.0838386\ttest: 0.1472817\tbest: 0.1339939 (8)\ttotal: 407ms\tremaining: 45.2ms\n",
      "90:\tlearn: 0.0837772\ttest: 0.1473895\tbest: 0.1339939 (8)\ttotal: 412ms\tremaining: 40.7ms\n",
      "91:\tlearn: 0.0833531\ttest: 0.1480381\tbest: 0.1339939 (8)\ttotal: 415ms\tremaining: 36ms\n",
      "92:\tlearn: 0.0829916\ttest: 0.1487999\tbest: 0.1339939 (8)\ttotal: 417ms\tremaining: 31.4ms\n",
      "93:\tlearn: 0.0828869\ttest: 0.1489211\tbest: 0.1339939 (8)\ttotal: 420ms\tremaining: 26.8ms\n",
      "94:\tlearn: 0.0828232\ttest: 0.1489471\tbest: 0.1339939 (8)\ttotal: 422ms\tremaining: 22.2ms\n",
      "95:\tlearn: 0.0824836\ttest: 0.1495472\tbest: 0.1339939 (8)\ttotal: 425ms\tremaining: 17.7ms\n",
      "96:\tlearn: 0.0821921\ttest: 0.1499755\tbest: 0.1339939 (8)\ttotal: 428ms\tremaining: 13.2ms\n",
      "97:\tlearn: 0.0819648\ttest: 0.1501037\tbest: 0.1339939 (8)\ttotal: 430ms\tremaining: 8.78ms\n",
      "98:\tlearn: 0.0818435\ttest: 0.1501822\tbest: 0.1339939 (8)\ttotal: 433ms\tremaining: 4.37ms\n",
      "99:\tlearn: 0.0817274\ttest: 0.1501844\tbest: 0.1339939 (8)\ttotal: 435ms\tremaining: 0us\n",
      "\n",
      "bestTest = 0.13399391\n",
      "bestIteration = 8\n",
      "\n",
      "Shrink model to first 9 iterations.\n"
     ]
    },
    {
     "data": {
      "text/plain": [
       "<catboost.core.CatBoostClassifier at 0x22c79f4c520>"
      ]
     },
     "execution_count": 79,
     "metadata": {},
     "output_type": "execute_result"
    }
   ],
   "source": [
    "model = CatBoostClassifier(iterations=100,\n",
    "                           learning_rate=0.5,\n",
    "                           depth=8)\n",
    "\n",
    "features = ['lev', 'lev_norm', 'lev_norm', 'not_unicode_1', 'not_unicode_2']\n",
    "target = ['gen']\n",
    "\n",
    "X = df[features]\n",
    "y = df[target]\n",
    "\n",
    "X_train, X_test, y_train, y_test = train_test_split(X, y, train_size=0.5, random_state=1)\n",
    "\n",
    "train_data = Pool(data=X_train, label=y_train)\n",
    "test_data = Pool(data=X_test, label=y_test)\n",
    "\n",
    "model.fit(train_data, eval_set=test_data)"
   ]
  },
  {
   "cell_type": "code",
   "execution_count": 80,
   "id": "a996ae2c-484b-47ad-881d-f3615c61a728",
   "metadata": {},
   "outputs": [
    {
     "data": {
      "text/plain": [
       "<matplotlib.legend.Legend at 0x22c7accfe50>"
      ]
     },
     "execution_count": 80,
     "metadata": {},
     "output_type": "execute_result"
    },
    {
     "data": {
      "image/png": "[encoded data removed]",
      "text/plain": [
       "<Figure size 640x480 with 1 Axes>"
      ]
     },
     "metadata": {},
     "output_type": "display_data"
    }
   ],
   "source": [
    "roc_curve = get_roc_curve(model, train_data, plot=False)\n",
    "(fpr, tpr, thresholds) = roc_curve\n",
    "(thresholds, fpr) = get_fpr_curve(curve=roc_curve)\n",
    "(thresholds, fnr) = get_fnr_curve(curve=roc_curve)\n",
    "lw = 2\n",
    "plt.plot(thresholds, fpr, color='blue', lw=lw, label='FPR', alpha=0.5)\n",
    "plt.plot(thresholds, fnr, color='green', lw=lw, label='FNR', alpha=0.5)\n",
    "plt.plot(thresholds, tpr, color='red', lw=lw, label='TPR', alpha=0.5)\n",
    "plt.legend(loc=\"lower right\", fontsize=10)"
   ]
  },
  {
   "cell_type": "code",
   "execution_count": 81,
   "id": "d67cec2a-2b48-4be1-9548-8a081a9334a7",
   "metadata": {},
   "outputs": [
    {
     "name": "stdout",
     "output_type": "stream",
     "text": [
      "0.6855287430137527\n"
     ]
    },
    {
     "data": {
      "text/plain": [
       "[<matplotlib.lines.Line2D at 0x22c7a837100>]"
      ]
     },
     "execution_count": 81,
     "metadata": {},
     "output_type": "execute_result"
    },
    {
     "data": {
      "image/png": "[encoded data removed]",
      "text/plain": [
       "<Figure size 640x480 with 1 Axes>"
      ]
     },
     "metadata": {},
     "output_type": "display_data"
    }
   ],
   "source": [
    "y_predict_proba = model.predict_proba(X_test)[:, 1]\n",
    "y = y_test\n",
    "precision, recall, thresholds = precision_recall_curve(y, y_predict_proba)\n",
    "pr_auc = auc(recall, precision)\n",
    "print(pr_auc)\n",
    "lw=2\n",
    "plt.plot(recall, precision, lw=lw, label=f'PR curve AUC={pr_auc:0.2f}',alpha=0.5)"
   ]
  },
  {
   "cell_type": "code",
   "execution_count": 83,
   "id": "228bee9d-3cba-4e98-9502-d6b584b7abbb",
   "metadata": {},
   "outputs": [
    {
     "data": {
      "text/plain": [
       "array([[1297,    3],\n",
       "       [  40,   55]], dtype=int64)"
      ]
     },
     "execution_count": 83,
     "metadata": {},
     "output_type": "execute_result"
    }
   ],
   "source": [
    "from sklearn.metrics import confusion_matrix\n",
    "\n",
    "y_pred = model.predict(X_test)\n",
    "y_proba = model.predict_proba(X_test)[:, 1]\n",
    "confusion_matrix(y_test, y_pred)\n",
    "# X_test['class'] = y_pred\n",
    "# X_test['proba'] = y_proba\n",
    "# df_test = pd.merge(df, X_test, left_index=True, right_index=True)\n",
    "# df_test[(df_test['class']==1) & (df_test['gen']==0)]"
   ]
  },
  {
   "cell_type": "code",
   "execution_count": 84,
   "id": "746bf9ab-9899-4b52-8eb4-189ff3e8d8de",
   "metadata": {},
   "outputs": [
    {
     "data": {
      "image/png": "[encoded data removed]",
      "text/plain": [
       "<Figure size 1200x600 with 1 Axes>"
      ]
     },
     "metadata": {},
     "output_type": "display_data"
    }
   ],
   "source": [
    "feature_importance = pd.DataFrame(model.get_feature_importance(prettified=True))\n",
    "plt.figure(figsize=(12, 6))\n",
    "feature_plot= sns.barplot(x=\"Importances\", y=\"Feature Id\", data=feature_importance, palette=\"flare\")"
   ]
  },
  {
   "cell_type": "code",
   "execution_count": 230,
   "id": "a749092d-79e6-4f87-adc5-e015fdf76102",
   "metadata": {},
   "outputs": [
    {
     "data": {
      "text/plain": [
       "<AxesSubplot: ylabel='Count'>"
      ]
     },
     "execution_count": 230,
     "metadata": {},
     "output_type": "execute_result"
    },
    {
     "data": {
      "image/png": "[encoded data removed]",
      "text/plain": [
       "<Figure size 640x480 with 1 Axes>"
      ]
     },
     "metadata": {},
     "output_type": "display_data"
    }
   ],
   "source": [
    "y_pred = model.predict_proba(X_test)\n",
    "sns.histplot(y_pred[0], bins=500)"
   ]
  },
  {
   "cell_type": "code",
   "execution_count": 231,
   "id": "2f4377e4-dccd-4873-91da-1aba4048ef9a",
   "metadata": {},
   "outputs": [
    {
     "ename": "TypeError",
     "evalue": "not_unicode() missing 1 required positional argument: 'f1_path'",
     "output_type": "error",
     "traceback": [
      "\u001b[1;31m---------------------------------------------------------------------------\u001b[0m",
      "\u001b[1;31mTypeError\u001b[0m                                 Traceback (most recent call last)",
      "\u001b[1;32m~\\AppData\\Local\\Temp\\ipykernel_20040\\1080217199.py\u001b[0m in \u001b[0;36m<module>\u001b[1;34m\u001b[0m\n\u001b[0;32m      3\u001b[0m         \u001b[1;32mreturn\u001b[0m \u001b[0mlen\u001b[0m\u001b[1;33m(\u001b[0m\u001b[0mre\u001b[0m\u001b[1;33m.\u001b[0m\u001b[0msub\u001b[0m\u001b[1;33m(\u001b[0m\u001b[1;34m'[\\w\\s.():\",:;\\[\\]=+\\-*`<>^/#{}\\'\\\\\\]'\u001b[0m\u001b[1;33m,\u001b[0m \u001b[1;34m''\u001b[0m\u001b[1;33m,\u001b[0m \u001b[0mf\u001b[0m\u001b[1;33m.\u001b[0m\u001b[0mread\u001b[0m\u001b[1;33m(\u001b[0m\u001b[1;33m)\u001b[0m\u001b[1;33m)\u001b[0m\u001b[1;33m)\u001b[0m\u001b[1;33m\u001b[0m\u001b[1;33m\u001b[0m\u001b[0m\n\u001b[0;32m      4\u001b[0m \u001b[1;33m\u001b[0m\u001b[0m\n\u001b[1;32m----> 5\u001b[1;33m \u001b[0mnot_unicode\u001b[0m\u001b[1;33m(\u001b[0m\u001b[1;33m)\u001b[0m\u001b[1;33m\u001b[0m\u001b[1;33m\u001b[0m\u001b[0m\n\u001b[0m",
      "\u001b[1;31mTypeError\u001b[0m: not_unicode() missing 1 required positional argument: 'f1_path'"
     ]
    }
   ],
   "source": [
    "def not_unicode(f1_path):\n",
    "    with open(f1_path, 'r', encoding=\"UTF-8\") as f:\n",
    "        return len(re.sub('[\\w\\s.():\",:;\\[\\]=+\\-*`<>^/#{}\\'\\\\\\]', '', f.read()))\n",
    "    \n",
    "not_unicode()"
   ]
  },
  {
   "cell_type": "code",
   "execution_count": 175,
   "id": "beedbfb9-a2da-48d9-a499-8360e431c18c",
   "metadata": {},
   "outputs": [
    {
     "name": "stdout",
     "output_type": "stream",
     "text": [
      "4919\n",
      "\n"
     ]
    }
   ],
   "source": [
    "f1_path = 'files\\\\apply_lambda.py'\n",
    "\n",
    "with open(f1_path, 'r', encoding=\"UTF-8\") as f:\n",
    "    print(len(f.read()))\n",
    "    print(re.sub('[\\w\\s.():\",:;\\[\\]=+\\-*`<>^/#{}\\'\\\\\\@!?%—~–&|$]', '', f.read()))"
   ]
  },
  {
   "cell_type": "code",
   "execution_count": 243,
   "id": "2b2269ce-629f-487c-99b5-35d8cbfec672",
   "metadata": {},
   "outputs": [
    {
     "data": {
      "text/plain": [
       "7455"
      ]
     },
     "execution_count": 243,
     "metadata": {},
     "output_type": "execute_result"
    }
   ],
   "source": [
    "len(y_pred)"
   ]
  },
  {
   "cell_type": "code",
   "execution_count": 272,
   "id": "cbba6db3-5562-4852-a005-c09c0dc9143c",
   "metadata": {},
   "outputs": [],
   "source": [
    "import pylint"
   ]
  },
  {
   "cell_type": "code",
   "execution_count": null,
   "id": "8d44e5f9-6676-4994-8276-20f1f7ce4c23",
   "metadata": {},
   "outputs": [],
   "source": []
  }
 ],
 "metadata": {
  "kernelspec": {
   "display_name": "Python 3 (ipykernel)",
   "language": "python",
   "name": "python3"
  },
  "language_info": {
   "codemirror_mode": {
    "name": "ipython",
    "version": 3
   },
   "file_extension": ".py",
   "mimetype": "text/x-python",
   "name": "python",
   "nbconvert_exporter": "python",
   "pygments_lexer": "ipython3",
   "version": "3.10.9"
  }
 },
 "nbformat": 4,
 "nbformat_minor": 5
}
